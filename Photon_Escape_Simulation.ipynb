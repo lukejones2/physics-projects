{
  "nbformat": 4,
  "nbformat_minor": 5,
  "metadata": {
    "noteable-chatgpt": {
      "create_notebook": {
        "openai_conversation_id": "9ee9e201-ef43-5868-946c-8d474b8cffed",
        "openai_ephemeral_user_id": "6330e6dc-feae-5e24-9a6b-8f871724aad9",
        "openai_subdivision1_iso_code": "GB-ENG"
      }
    },
    "kernel_info": {
      "name": "python3"
    },
    "kernelspec": {
      "display_name": "Python 3.9",
      "language": "python",
      "name": "python3"
    },
    "selected_hardware_size": "small"
  },
  "cells": [
    {
      "id": "17892e38-a0f1-4dd9-8286-e34cb89e6bc9",
      "cell_type": "markdown",
      "source": "# Photon Escape Simulation from the Sun's Core\n## Objective\nSimulate the time it takes for a photon to escape from the Sun's core to its surface using a 1D random walk model.\n\n## Assumptions\n1. The Sun is a perfect sphere.\n2. The photon's movement can be modeled as a 1D random walk. It has some probability to move right (towards the radius edge) and left (towards the centre).\n3. Dominant pressures that bias the photon to move right are thermal, radiative, and gravitational.\n4. These can be modelled as a net 'force' that acts on the photon and so P(right) > P(left).\n5. The bias probability P represents the net outward 'force' on the photon.\n6. We assume the interaction time is negligible.",
      "metadata": {
        "noteable": {
          "cell_type": "markdown"
        }
      }
    },
    {
      "id": "41527615-3bc4-4710-9f45-cebc08e76fc8",
      "cell_type": "markdown",
      "source": "## Constants",
      "metadata": {
        "noteable": {
          "cell_type": "markdown"
        }
      }
    },
    {
      "id": "e2aa3679-5cfa-43de-9b30-5032639850ee",
      "cell_type": "code",
      "metadata": {
        "noteable": {
          "cell_type": "python",
          "output_collection_id": "36b9048f-8dd6-4287-bccf-c362fc28c1b2"
        },
        "ExecuteTime": {
          "end_time": "2023-10-09T22:19:58.121739+00:00",
          "start_time": "2023-10-09T22:19:57.966949+00:00"
        }
      },
      "execution_count": null,
      "source": "# Solar constants\nR = 6.96e8  # Radius of the Sun in meters\nlambda_mean = 1e-3  # Mean free path in meters\n\n# Constants for density\ndensity_core = 1.62e5  # kg/m^3, density at the core\ndensity_surface = 2.0e-4  # kg/m^3, density at the surface\n\nc = 3e8  # Speed of light in m/s",
      "outputs": []
    },
    {
      "id": "34923e55-bd48-491c-9872-482ce67400d6",
      "cell_type": "code",
      "metadata": {
        "noteable": {
          "cell_type": "code",
          "output_collection_id": "5db6bc46-671c-4842-8fda-bb7dce71f5f6"
        },
        "ExecuteTime": {
          "end_time": "2023-10-09T22:19:58.282504+00:00",
          "start_time": "2023-10-09T22:19:58.128681+00:00"
        }
      },
      "execution_count": null,
      "source": "import numpy as np\nimport matplotlib.pyplot as plt\nimport time\nimport pandas as pd",
      "outputs": []
    },
    {
      "id": "91733df3-522c-4f3e-bb99-a52f24b11f24",
      "cell_type": "code",
      "metadata": {
        "jupyter": {
          "outputs_hidden": false,
          "source_hidden": false
        },
        "noteable": {
          "cell_type": "code",
          "output_collection_id": "22650319-ae81-4312-9a98-1dd25f72ae80"
        },
        "ExecuteTime": {
          "end_time": "2023-10-09T22:19:58.446516+00:00",
          "start_time": "2023-10-09T22:19:58.289450+00:00"
        }
      },
      "execution_count": null,
      "source": "# calculate how many steps if the photon always moves right \nR/lambda_mean  # 696000000000 steps",
      "outputs": []
    },
    {
      "id": "d182015c-525c-4101-918f-509dddf894bd",
      "cell_type": "markdown",
      "source": "## Here's our code for simulating the time it takes for a photon to leave the sun",
      "metadata": {
        "noteable": {
          "cell_type": "markdown"
        }
      }
    },
    {
      "id": "cb68bb6f-aa1a-47d2-a335-c0f693035706",
      "cell_type": "code",
      "metadata": {
        "noteable": {
          "cell_type": "code",
          "output_collection_id": "70a18c18-b112-47c6-864a-6bd4fdaf593c"
        },
        "ExecuteTime": null
      },
      "execution_count": null,
      "source": "# Function to simulate photon escape time and return positions and steps in a DataFrame\ndef simulate_photon_escape_time(bias_prob, radius=int(R), max_steps=int(1e3)):\n    position = 0  # Start at the center of the Sun\n    time_taken = 0  # Time taken for photon to escape\n    current_steps = 0  # Start counting how many steps we've taken\n    data = {'Steps': [], 'Position': []}  # For storing data\n\n    while position < radius:\n        # Generate a random number to decide the direction\n        rand_num = np.random.rand()\n\n        # Apply bias probability\n        if rand_num <= bias_prob/2 + 0.5:\n            position += lambda_mean  # Move towards the surface\n        else:\n            position -= lambda_mean  # Move towards the core\n\n        # Increment the steps\n        current_steps += 1\n\n        # Store data\n        data['Steps'].append(current_steps)\n        data['Position'].append(position)\n\n        # Check if photon has escaped\n        if current_steps >= max_steps:\n            print(f'simulation ended prematurely after {current_steps} steps')\n            print(f'photon travelled {position:.7f}m from the centre of the sun, {position*100/R:.8f}% of the way to the surface of the sun')\n            break\n\n    # Create DataFrame\n    df = pd.DataFrame(data)\n    return df\n\n# Function to plot photon path\ndef plot_photon_path(df):\n    plt.figure(figsize=(10, 6))\n    plt.plot(df['Steps'], df['Position'], label='Photon Path', color='b')\n    plt.xlabel('Steps')\n    plt.ylabel('Position (m)')\n    plt.title('Photon Path')\n    plt.grid(True)\n    plt.legend()\n    plt.show()\n\n# Run the simulation and plot\nbias_probability = 7.353e-14  # decimal between 0 and 1. 0 is no bias, 1 is always moves right\ndf = simulate_photon_escape_time(bias_probability, max_steps=1e8)\nplot_photon_path(df)",
      "outputs": []
    },
    {
      "id": "d463bf98-e8f9-435c-a0df-437060d3c03f",
      "cell_type": "markdown",
      "source": "Ok so this shows our simulation works but it doesn't travel very far! This is likely due to the sheer number of collisions that occur even though the photons are moving at _c_, and we're trying to simulate every interaction ",
      "metadata": {
        "noteable": {
          "cell_type": "markdown"
        }
      }
    },
    {
      "id": "8901bb02-b6f4-43ab-8dd4-97808e9f5138",
      "cell_type": "markdown",
      "source": "Let's see how long it would take to simulate all the way to the edge of the sun",
      "metadata": {
        "noteable": {
          "cell_type": "markdown"
        }
      }
    },
    {
      "id": "51c9cd00-43fe-4c3c-b052-c195450695cb",
      "cell_type": "code",
      "metadata": {
        "jupyter": {
          "outputs_hidden": false,
          "source_hidden": false
        },
        "noteable": {
          "cell_type": "code",
          "output_collection_id": "ea1b9c82-7805-4652-8067-d3895e41c7c6"
        },
        "ExecuteTime": {
          "end_time": "2023-10-09T22:17:25.836614+00:00",
          "start_time": "2023-10-09T22:17:25.679747+00:00"
        }
      },
      "execution_count": null,
      "source": "int(df['Steps'].iloc[-1])",
      "outputs": []
    },
    {
      "id": "d83af657-0485-459a-aec4-87c32f908032",
      "cell_type": "code",
      "metadata": {
        "noteable": {
          "cell_type": "python",
          "output_collection_id": "c0b7275a-ea35-4247-9c22-dd5db815f6ae"
        },
        "ExecuteTime": {
          "end_time": "2023-10-09T22:17:33.554901+00:00",
          "start_time": "2023-10-09T22:17:25.843155+00:00"
        }
      },
      "execution_count": null,
      "source": "start_time = time.time()\ndf = simulate_photon_escape_time(bias_probability, max_steps=1e7)\nnum_steps = int(df['Steps'].iloc[-1])\nelapsed_time = time.time() - start_time\nprint(f'num_steps: {num_steps:.10f}, calculation_time: {elapsed_time:.6f}s')",
      "outputs": []
    },
    {
      "id": "a0a4ef2b-0adc-4722-9425-ce8720b6aa8a",
      "cell_type": "code",
      "metadata": {
        "jupyter": {
          "outputs_hidden": false,
          "source_hidden": false
        },
        "noteable": {
          "cell_type": "code",
          "output_collection_id": "2ae49f07-1c0a-4a86-831c-4b61a0612366"
        },
        "ExecuteTime": {
          "end_time": "2023-10-09T22:17:33.716105+00:00",
          "start_time": "2023-10-09T22:17:33.561961+00:00"
        },
        "datalink": {
          "e855878d-54e9-4226-9ad9-dfb34e3b3fe3": {
            "applied_filters": [],
            "dataframe_info": {
              "default_index_used": true,
              "orig_num_cols": 2,
              "orig_num_rows": 10000,
              "orig_size_bytes": 240000,
              "truncated_num_cols": 2,
              "truncated_num_rows": 10000,
              "truncated_size_bytes": 240000,
              "truncated_string_columns": []
            },
            "display_id": "e855878d-54e9-4226-9ad9-dfb34e3b3fe3",
            "dx_settings": {
              "ALLOW_NOTEABLE_ATTRS": true,
              "COLUMN_SAMPLING_METHOD": "outer",
              "DB_LOCATION": ":memory:",
              "DEV_MODE": false,
              "DISPLAY_MAX_COLUMNS": 100,
              "DISPLAY_MAX_ROWS": 50000,
              "DISPLAY_MODE": "simple",
              "ENABLE_ASSIGNMENT": true,
              "ENABLE_DATALINK": true,
              "FLATTEN_COLUMN_VALUES": true,
              "FLATTEN_INDEX_VALUES": false,
              "GENERATE_DEX_METADATA": false,
              "HTML_TABLE_SCHEMA": false,
              "LOG_LEVEL": 30,
              "MAX_RENDER_SIZE_BYTES": 104857600,
              "MAX_STRING_LENGTH": 250,
              "NUM_PAST_SAMPLES_TRACKED": 3,
              "RANDOM_STATE": 12648430,
              "RESET_INDEX_VALUES": false,
              "ROW_SAMPLING_METHOD": "random",
              "SAMPLING_FACTOR": 0.1,
              "SAMPLING_METHOD": "random",
              "STRINGIFY_COLUMN_VALUES": true,
              "STRINGIFY_INDEX_VALUES": false
            },
            "sample_history": [],
            "sampling_time": "2023-10-08T22:17:34.098693",
            "user_variable_name": "df",
            "variable_name": "df"
          },
          "f4666a96-3e75-4d2e-929f-bb19e50a2eb4": {
            "applied_filters": [],
            "dataframe_info": {
              "default_index_used": true,
              "orig_num_cols": 1,
              "orig_num_rows": 10000,
              "orig_size_bytes": 160000,
              "truncated_num_cols": 1,
              "truncated_num_rows": 10000,
              "truncated_size_bytes": 160000,
              "truncated_string_columns": []
            },
            "display_id": "f4666a96-3e75-4d2e-929f-bb19e50a2eb4",
            "dx_settings": {
              "ALLOW_NOTEABLE_ATTRS": true,
              "COLUMN_SAMPLING_METHOD": "outer",
              "DB_LOCATION": ":memory:",
              "DEV_MODE": false,
              "DISPLAY_MAX_COLUMNS": 100,
              "DISPLAY_MAX_ROWS": 50000,
              "DISPLAY_MODE": "simple",
              "ENABLE_ASSIGNMENT": true,
              "ENABLE_DATALINK": true,
              "FLATTEN_COLUMN_VALUES": true,
              "FLATTEN_INDEX_VALUES": false,
              "GENERATE_DEX_METADATA": false,
              "HTML_TABLE_SCHEMA": false,
              "LOG_LEVEL": 30,
              "MAX_RENDER_SIZE_BYTES": 104857600,
              "MAX_STRING_LENGTH": 250,
              "NUM_PAST_SAMPLES_TRACKED": 3,
              "RANDOM_STATE": 12648430,
              "RESET_INDEX_VALUES": false,
              "ROW_SAMPLING_METHOD": "random",
              "SAMPLING_FACTOR": 0.1,
              "SAMPLING_METHOD": "random",
              "STRINGIFY_COLUMN_VALUES": true,
              "STRINGIFY_INDEX_VALUES": false
            },
            "sample_history": [],
            "sampling_time": "2023-10-08T22:19:23.980284",
            "user_variable_name": null,
            "variable_name": "unk_dataframe_42b35df57cd448059370b0f7dc47f3f8"
          }
        },
        "dx": {
          "dashboard": {
            "multiViews": []
          },
          "fieldMetadata": {},
          "updated": 1696803512409,
          "views": [
            {
              "annotationRules": [],
              "chart": {},
              "chartMode": "grid",
              "confoRules": [],
              "decoration": {
                "footer": "",
                "subtitle": "",
                "title": "Table"
              },
              "facets": [],
              "filterSettings": {
                "SHOW_FILTER_PANEL": true,
                "filters": []
              },
              "id": "first-view",
              "isDefault": true,
              "type": "public",
              "userID": ""
            },
            {
              "annotationRules": [],
              "chart": {},
              "chartMode": "grid",
              "confoRules": [],
              "decoration": {
                "footer": "",
                "subtitle": "",
                "title": "Table"
              },
              "facets": [],
              "filterSettings": {
                "SHOW_FILTER_PANEL": false,
                "filters": []
              },
              "id": "first-view",
              "isDefault": true,
              "isTransitory": true,
              "type": "public",
              "userID": ""
            }
          ]
        },
        "scrolled": false
      },
      "execution_count": null,
      "source": "percent_to_edge = (100 * df['Position'].iloc[-1]) / R\nprint(f'percent to edge of sun: {percent_to_edge:.10f}%')\n\ntime_to_compute_to_escape = (elapsed_time) / (percent_to_edge / 100)\n\nprint(f'time to complete simulation: {time_to_compute_to_escape/3600:.5f} hours')\n",
      "outputs": []
    },
    {
      "id": "e210209c-ed16-4ebd-93b2-1c70981248c2",
      "cell_type": "markdown",
      "source": "It would take ~700 hours to complete every interaction! So we'll have to estimate and extrapolate the time it takes to exit the sun with this simulation",
      "metadata": {
        "noteable": {
          "cell_type": "markdown"
        }
      }
    },
    {
      "id": "526451ac-1c6e-495d-aef4-a49ca95243fd",
      "cell_type": "code",
      "metadata": {
        "noteable": {
          "cell_type": "python",
          "output_collection_id": "b3435c17-30a7-4047-a1de-46cb2f6c9ccb"
        },
        "ExecuteTime": {
          "end_time": "2023-10-09T22:17:33.877112+00:00",
          "start_time": "2023-10-09T22:17:33.723329+00:00"
        }
      },
      "execution_count": null,
      "source": "# calculate the time per step (interaction)\ntime_per_step = lambda_mean/c\nprint(time_per_step)",
      "outputs": []
    },
    {
      "id": "db8ae2e4-3ae2-4327-a810-d5a20034f127",
      "cell_type": "code",
      "metadata": {
        "jupyter": {
          "outputs_hidden": false,
          "source_hidden": false
        },
        "noteable": {
          "cell_type": "code",
          "output_collection_id": "8f3d7cc2-2b0d-4c4a-89d4-68b407d6eb03"
        },
        "ExecuteTime": {
          "end_time": "2023-10-09T22:17:34.036906+00:00",
          "start_time": "2023-10-09T22:17:33.883185+00:00"
        },
        "scrolled": false
      },
      "execution_count": null,
      "source": "# extrapolate how many seconds it would take to escape\n\n# how many seconds have elapsed\nseconds_elapsed = time_per_step * num_steps\n\ntime_to_escape = (seconds_elapsed) / (percent_to_edge / 100)\n\nprint(time_to_escape)  # in seconds",
      "outputs": []
    },
    {
      "id": "793187c5-a9b4-49c4-87f9-7619c2328daa",
      "cell_type": "code",
      "metadata": {
        "jupyter": {
          "outputs_hidden": false,
          "source_hidden": false
        },
        "noteable": {
          "cell_type": "code",
          "output_collection_id": "af00aaf1-6f69-4a59-915d-daa894982a24"
        },
        "ExecuteTime": {
          "end_time": "2023-10-09T22:05:04.517943+00:00",
          "start_time": "2023-10-09T22:05:04.362585+00:00"
        }
      },
      "execution_count": null,
      "source": "# extrapolate how many seconds it would take to exit\ntime_per_step * (1/ ((percent_to_edge / 100) /num_steps))\n\n# how many seconds have elapsed\nseconds_elapsed = time_per_step * num_steps\n\n# how far through are we\npercent_to_edge / 100\n\nseconds_elapsed/percent_to_edge\n\ntime = (100/(percent_to_edge/num_steps)) * time_per_step\nprint(f'{time/(3600*24*365)}')",
      "outputs": []
    },
    {
      "id": "552b04ea-be8c-4a15-9e16-ba4418464e42",
      "cell_type": "markdown",
      "source": "# NEXT STEPS\n- The above assumes a constant density, which is a poor assumption. Try a range of values of the bias probability to see what the net force effect is actually like (how often does it actually seem to bias moving left over right)\n- Experiment with different density distributions",
      "metadata": {
        "noteable": {
          "cell_type": "markdown"
        }
      }
    },
    {
      "id": "469d96d1-1990-4ad4-98de-9f9c3b3d1363",
      "cell_type": "code",
      "metadata": {
        "jupyter": {
          "outputs_hidden": false,
          "source_hidden": false
        },
        "noteable": {
          "cell_type": "code"
        }
      },
      "execution_count": null,
      "source": "",
      "outputs": []
    },
    {
      "id": "a015fa47-5357-4e00-85fa-2698b8aa2e85",
      "cell_type": "code",
      "metadata": {
        "noteable": {
          "cell_type": "code"
        }
      },
      "execution_count": null,
      "source": "def simulate_photon_escape_time_with_density(bias_prob, steps=int(1e6)):\n    position = 0  # Start at the center of the Sun\n    time_taken = 0  # Time taken for photon to escape\n\n    for _ in range(steps):\n        # Generate a random number to decide the direction\n        rand_num = np.random.rand()\n\n        # Calculate current density\n        current_density = density_core + density_slope * position\n\n        # Calculate mean free path based on current density\n        lambda_current = lambda_mean * (density_core / current_density)\n\n        # Apply bias probability\n        if rand_num < bias_prob:\n            position += lambda_current  # Move towards the surface\n        else:\n            position -= lambda_current  # Move towards the core\n\n        # Calculate time taken for this step\n        time_step = lambda_current / c\n        time_taken += time_step\n\n        # Check if photon has escaped\n        if position >= R:\n            break\n\n    return time_taken  # Time taken in seconds",
      "outputs": []
    },
    {
      "id": "4acb0eab-86ec-469a-8662-ee1231a20a25",
      "cell_type": "markdown",
      "source": "## Density Modelling\n\nThe above assumes constant density of the sun which is a poor assumption. Let's experiment with different density profiles",
      "metadata": {
        "noteable": {
          "cell_type": "markdown"
        }
      }
    },
    {
      "id": "073b45e0-e09f-4764-8db7-9ef58a7d46b7",
      "cell_type": "code",
      "metadata": {
        "noteable": {
          "cell_type": "code",
          "output_collection_id": "55319bf8-c1f7-4f2d-9b9f-4ebdf354a456"
        },
        "ExecuteTime": {
          "end_time": "2023-10-08T22:07:18.848240+00:00",
          "start_time": "2023-10-08T22:07:18.486778+00:00"
        }
      },
      "execution_count": null,
      "source": "# Create an array of positions from the center to the surface of the Sun\npositions = np.linspace(0, R, 1000)\n\ndensity_slope = (density_surface - density_core) / R  # Linear rate of change of density\n# Calculate the density at each position\ndensities = density_core + density_slope * positions\n\n# Plotting\nplt.figure(figsize=(10, 6))\nplt.plot(positions, densities, label='Density Profile')\nplt.xlabel('Position (m)')\nplt.ylabel('Density (kg/m^3)')\nplt.title('Density Profile of the Sun from Core to Surface')\nplt.legend()\nplt.grid(True)\nplt.show()",
      "outputs": []
    },
    {
      "id": "75094126-eda9-491c-9cae-e36351090090",
      "cell_type": "code",
      "metadata": {
        "noteable": {
          "cell_type": "code",
          "output_collection_id": "d25ff8be-79c6-4fc1-9699-fc615c2e67d8"
        },
        "ExecuteTime": {
          "end_time": "2023-10-08T21:11:39.544388+00:00",
          "start_time": "2023-10-08T21:11:39.189068+00:00"
        }
      },
      "execution_count": null,
      "source": "# Constants for exponential density\ndecay_constant = -np.log(density_surface / density_core) / R\n\n# Plotting the exponential density profile\nexp_densities = density_core * np.exp(-decay_constant * positions)\n\nplt.figure(figsize=(10, 6))\nplt.plot(positions, exp_densities, label='Exponential Density Profile')\nplt.xlabel('Position (m)')\nplt.ylabel('Density (kg/m^3)')\nplt.title('Exponential Density Profile of the Sun from Core to Surface')\nplt.legend()\nplt.grid(True)\nplt.show()",
      "outputs": []
    },
    {
      "id": "62653c7f-5afa-440b-a3ef-f7ea2c82a136",
      "cell_type": "markdown",
      "source": "This looks better but decays quite steeply. The reality is more likely to be less dramatic than this",
      "metadata": {
        "noteable": {
          "cell_type": "markdown"
        }
      }
    },
    {
      "id": "a83f7072-7245-455c-a732-5c5fbbc04a92",
      "cell_type": "code",
      "metadata": {
        "noteable": {
          "cell_type": "code",
          "output_collection_id": "e571cc41-5e8b-4074-b268-722deb3794b2"
        },
        "ExecuteTime": {
          "end_time": "2023-10-08T21:13:30.193510+00:00",
          "start_time": "2023-10-08T21:13:29.810981+00:00"
        }
      },
      "execution_count": null,
      "source": "# Adjust decay constant based on the half-life\nhalf_life = 1e8  # Half-life in meters\ndecay_constant_adjusted = np.log(2) / half_life\n\n# Plotting the adjusted exponential density profile\nadjusted_exp_densities = density_core * np.exp(-decay_constant_adjusted * positions)\n\nplt.figure(figsize=(10, 6))\nplt.plot(positions, adjusted_exp_densities, label='Adjusted Exponential Density Profile')\nplt.xlabel('Position (m)')\nplt.ylabel('Density (kg/m^3)')\nplt.title('Adjusted Exponential Density Profile of the Sun from Core to Surface')\nplt.legend()\nplt.grid(True)\nplt.show()",
      "outputs": []
    },
    {
      "id": "15432cde-dbc4-44da-805c-3fe13b516143",
      "cell_type": "markdown",
      "source": "This looks like it might be more representative. We can validate this at a later point.",
      "metadata": {
        "noteable": {
          "cell_type": "markdown"
        }
      }
    },
    {
      "id": "07c5f5f5-b87e-4435-a483-52d393227245",
      "cell_type": "markdown",
      "source": "",
      "metadata": {
        "noteable": {
          "cell_type": "markdown"
        }
      }
    },
    {
      "id": "f3745fee-92b9-4412-8983-9ac7f205cb5c",
      "cell_type": "code",
      "metadata": {
        "noteable": {
          "cell_type": "code",
          "output_collection_id": "9e6cf0b3-67f5-4e0c-922e-87e57d64535c"
        },
        "ExecuteTime": {
          "end_time": "2023-10-08T21:55:12.864498+00:00",
          "start_time": "2023-10-08T21:55:12.223559+00:00"
        }
      },
      "execution_count": null,
      "source": "import matplotlib.pyplot as plt\nimport time\nimport numpy as np\n\n# Constants\nR = 6.96e8  # Radius of the Sun in meters\nc = 3e8  # Speed of light in m/s\nlambda_mean = 1e-2  # Mean free path in m\ndecay_constant_adjusted = np.log(2) / 3.5e8  # Adjusted decay constant\ndensity_core = 1.62e5  # kg/m^3, density at the core\n\ndef simulate_photon_escape_time(bias_prob, radius=int(R), max_steps=int(1e2), visualize=False):\n    position = 0  # Start at the center of the Sun\n    time_taken = 0  # Time taken for photon to escape\n    current_steps = 0  # Start counting how many steps we've taken\n    positions = []  # For visualization\n\n    while position < radius:\n        # Generate a random number to decide the direction\n        rand_num = np.random.rand()\n\n        # Apply bias probability\n        if rand_num < bias_prob/2 + 0.5:\n            position += lambda_mean  # Move towards the surface\n        else:\n            position -= lambda_mean  # Move towards the core\n\n        # Calculate time taken for this step\n        time_step = lambda_mean / c\n        time_taken += time_step\n\n        # Increment the steps\n        current_steps += 1\n\n        # For visualization\n        if visualize:\n            positions.append(position)\n\n        # Check if photon has escaped\n        if current_steps >= max_steps:\n            print(f'simulation ended prematurely after {current_steps} steps')\n            print(f'photon travelled {position:.5f}m from the centre of the sun, {position*100/R:.6f}% of the way to the surface of the sun')\n            break\n\n    if visualize:\n        # Plotting Photon Path\n        plt.figure(figsize=(10, 6))\n        plt.plot(positions, label='Photon Path')\n        plt.xlabel('Steps')\n        plt.ylabel('Position (m)')\n        plt.title('Photon Path from Core to Surface')\n        plt.legend()\n        plt.grid(True)\n        plt.show()\n\n        # Plotting Density Profile Overlay\n        exp_densities = density_core * np.exp(-decay_constant_adjusted * np.array(positions))\n        plt.figure(figsize=(10, 6))\n        plt.plot(positions, exp_densities, label='Exponential Density Profile')\n        plt.xlabel('Position (m)')\n        plt.ylabel('Density (kg/m^3)')\n        plt.title('Density Profile Along Photon Path')\n        plt.legend()\n        plt.grid(True)\n        plt.show()\n\n    return time_taken  # Time taken in seconds\n\n# Run the simulation with visualization\nbias_probability = 1.5e-13  # decimal between 0 and 1. 0 is no bias, 1 is always moves right\nstart_time = time.time()\nescape_time = simulate_photon_escape_time(bias_probability, visualize=True)\nelapsed_time = time.time() - start_time\nprint(f'escape_time: {escape_time:.10f}s, calculation_time: {elapsed_time:.5f}s')",
      "outputs": []
    },
    {
      "id": "861e8efe-67fb-4514-bfad-a11f3ed86885",
      "cell_type": "code",
      "metadata": {
        "jupyter": {
          "outputs_hidden": false,
          "source_hidden": false
        },
        "noteable": {
          "cell_type": "code"
        }
      },
      "execution_count": null,
      "source": "",
      "outputs": []
    },
    {
      "id": "15230cc7-13b1-4cad-8334-7c0c37e4a2c2",
      "cell_type": "code",
      "metadata": {
        "jupyter": {
          "outputs_hidden": false,
          "source_hidden": false
        },
        "noteable": {
          "cell_type": "code"
        }
      },
      "execution_count": null,
      "source": "",
      "outputs": []
    },
    {
      "id": "1b100930-3ef5-415d-895d-403fd2296be7",
      "cell_type": "code",
      "metadata": {
        "jupyter": {
          "outputs_hidden": false,
          "source_hidden": false
        },
        "noteable": {
          "cell_type": "code"
        }
      },
      "execution_count": null,
      "source": "",
      "outputs": []
    },
    {
      "id": "ed8a927e-342f-47df-8860-e7a02212b46b",
      "cell_type": "code",
      "metadata": {
        "jupyter": {
          "outputs_hidden": false,
          "source_hidden": false
        },
        "noteable": {
          "cell_type": "code"
        }
      },
      "execution_count": null,
      "source": "",
      "outputs": []
    },
    {
      "id": "b0ad74de-e20a-4035-9722-a63620cb49f9",
      "cell_type": "code",
      "metadata": {
        "noteable": {
          "cell_type": "code",
          "output_collection_id": "1d258363-1a4f-46cd-b02f-5706ba666ad7"
        },
        "ExecuteTime": {
          "end_time": "2023-10-08T21:59:29.926304+00:00",
          "start_time": "2023-10-08T21:59:29.581999+00:00"
        }
      },
      "execution_count": null,
      "source": "",
      "outputs": []
    },
    {
      "id": "f0350969-b308-4128-9ccb-17fcacd6fa00",
      "cell_type": "code",
      "metadata": {
        "jupyter": {
          "outputs_hidden": false,
          "source_hidden": false
        },
        "noteable": {
          "cell_type": "code"
        }
      },
      "execution_count": null,
      "source": "",
      "outputs": []
    }
  ]
}